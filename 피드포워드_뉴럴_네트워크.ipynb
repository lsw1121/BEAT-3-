{
  "nbformat": 4,
  "nbformat_minor": 0,
  "metadata": {
    "colab": {
      "name": "피드포워드 뉴럴 네트워크.ipynb",
      "provenance": [],
      "collapsed_sections": [],
      "authorship_tag": "ABX9TyP1RNi4r5n+aO/3UWbyOLTf",
      "include_colab_link": true
    },
    "kernelspec": {
      "name": "python3",
      "display_name": "Python 3"
    },
    "language_info": {
      "name": "python"
    }
  },
  "cells": [
    {
      "cell_type": "markdown",
      "metadata": {
        "id": "view-in-github",
        "colab_type": "text"
      },
      "source": [
        "<a href=\"https://colab.research.google.com/github/lsw1121/BEAT-3-/blob/main/%ED%94%BC%EB%93%9C%ED%8F%AC%EC%9B%8C%EB%93%9C_%EB%89%B4%EB%9F%B4_%EB%84%A4%ED%8A%B8%EC%9B%8C%ED%81%AC.ipynb\" target=\"_parent\"><img src=\"https://colab.research.google.com/assets/colab-badge.svg\" alt=\"Open In Colab\"/></a>"
      ]
    },
    {
      "cell_type": "markdown",
      "source": [
        "# 코드 3-6 피드포워드 뉴럴 네트워크 계산 예시 (1)\n",
        "- 여기서, x는 입력이고 w1은 입력층-은닉층을 연결하는 가중치, b1은 입력층-은닉층을 연결하는 바이어스입니다.\n",
        "\n",
        "    그리고 w2는 은닉층-출력층을 연결하는 가중치, b2는 은닉층-출력층을 연결하는 바이어스입니다."
      ],
      "metadata": {
        "id": "nOsEEnDNBfFe"
      }
    },
    {
      "cell_type": "code",
      "execution_count": 2,
      "metadata": {
        "id": "q1T3QeG9BWdD"
      },
      "outputs": [],
      "source": [
        "import torch\n",
        "x = torch.tensor([2, 1])\n",
        "w1 = torch.tensor([[3, 2, -4],[2, -3, 1]])\n",
        "b1 = 1\n",
        "w2 = torch.tensor([[-1, 1],[1, 2], [3, 1]])\n",
        "b2 = -1"
      ]
    },
    {
      "cell_type": "markdown",
      "source": [
        "# 코드 3-7 피드포워드 뉴럴 네트워크 계산 예시(2)\n",
        "- h_preact는 입력 x와 w1를 행렬곱한 뒤 b1을 더한 것입니다. \n",
        "- 그 다음으로 ReLU를 취해 은닉층 h를 만듭니다. \n",
        "- 마지막으로 h와 w2를 행렬곱한 뒤 b2를 더해 출력층 y를 계산합니다."
      ],
      "metadata": {
        "id": "PwEubTxOCsDu"
      }
    },
    {
      "cell_type": "code",
      "source": [
        "h_preact = torch.matmul(x, w1) + b1\n",
        "h = torch.nn.functional.relu(h_preact)\n",
        "y= torch.matmul(h, w2) + b2\n",
        "\n"
      ],
      "metadata": {
        "id": "MnhmL6O5DIwj"
      },
      "execution_count": 7,
      "outputs": []
    },
    {
      "cell_type": "code",
      "source": [
        "h_preact"
      ],
      "metadata": {
        "colab": {
          "base_uri": "https://localhost:8080/"
        },
        "id": "GRyhXRx8DeL5",
        "outputId": "66f5f287-9744-41b3-e6b9-3420e5c383e9"
      },
      "execution_count": 8,
      "outputs": [
        {
          "output_type": "execute_result",
          "data": {
            "text/plain": [
              "tensor([ 9,  2, -6])"
            ]
          },
          "metadata": {},
          "execution_count": 8
        }
      ]
    },
    {
      "cell_type": "code",
      "source": [
        "h"
      ],
      "metadata": {
        "colab": {
          "base_uri": "https://localhost:8080/"
        },
        "id": "gmv-DwXjDeJO",
        "outputId": "8d51d813-e943-4072-ddac-70dfcf7c1aa1"
      },
      "execution_count": 9,
      "outputs": [
        {
          "output_type": "execute_result",
          "data": {
            "text/plain": [
              "tensor([9, 2, 0])"
            ]
          },
          "metadata": {},
          "execution_count": 9
        }
      ]
    },
    {
      "cell_type": "code",
      "source": [
        "y"
      ],
      "metadata": {
        "colab": {
          "base_uri": "https://localhost:8080/"
        },
        "id": "IKXlJgA2Dd_5",
        "outputId": "40d55e1b-ce1a-4bb0-d3ee-5a354b5e44f5"
      },
      "execution_count": 10,
      "outputs": [
        {
          "output_type": "execute_result",
          "data": {
            "text/plain": [
              "tensor([-8, 12])"
            ]
          },
          "metadata": {},
          "execution_count": 10
        }
      ]
    },
    {
      "cell_type": "markdown",
      "source": [
        "# 코드 3-8 레이어 정규화 예시\n",
        "- 다음 코드는 파이토치로 레이어 정규화를 수행하는 역할을 합니다.\n",
        "- 입력의 모양은 배치 크기(2) * 피처의 차원 수(3)이 됩니다.\n",
        "- 여기서, torch.nn.LayerNorm(input.shape[-1])이라는 코드는 위 그림에서 화살표 방향대로 레이어 정규화를 수행한다는 의미입니다."
      ],
      "metadata": {
        "id": "zcxVLbmXFl6T"
      }
    },
    {
      "cell_type": "code",
      "source": [
        "import torch\n",
        "input = torch.tensor([[1.0, 2.0, 3.0], [1.0, 1.0, 1.0]])\n",
        "m = torch.nn.LayerNorm(input.shape[-1])\n",
        "output = m(input)"
      ],
      "metadata": {
        "id": "v67Ng5wWGCSt"
      },
      "execution_count": 11,
      "outputs": []
    },
    {
      "cell_type": "code",
      "source": [
        "output"
      ],
      "metadata": {
        "colab": {
          "base_uri": "https://localhost:8080/"
        },
        "id": "n08XNYMPGUzj",
        "outputId": "f558a1be-8fbd-4917-bf0f-9566a14bb1d2"
      },
      "execution_count": 12,
      "outputs": [
        {
          "output_type": "execute_result",
          "data": {
            "text/plain": [
              "tensor([[-1.2247,  0.0000,  1.2247],\n",
              "        [ 0.0000,  0.0000,  0.0000]], grad_fn=<NativeLayerNormBackward0>)"
            ]
          },
          "metadata": {},
          "execution_count": 12
        }
      ]
    },
    {
      "cell_type": "markdown",
      "source": [
        "- 파이토치의 LayerNorm 객체는 r과 β의 값을 각각 1과 0으로 초기화합니다. \n",
        "- 학습 초기 레이어 정규화 수행은 배치 인스턴스의 평균을 빼고 표준편차로 나눈 결과에 1을 곱한 후 0을 더합니다. \n",
        "- 이후 학습 과정에서는 태스크를 가장 잘 수행하는 방향으로 이 값들을 업데이트 하는 방식입니다."
      ],
      "metadata": {
        "id": "uqgDm84xHQ6E"
      }
    },
    {
      "cell_type": "code",
      "source": [
        "m.weight # m.weight은 r 입니다."
      ],
      "metadata": {
        "colab": {
          "base_uri": "https://localhost:8080/"
        },
        "id": "PMTpvR4KGVvG",
        "outputId": "9c599a85-8ab3-4413-b01b-bd8d0895203f"
      },
      "execution_count": 13,
      "outputs": [
        {
          "output_type": "execute_result",
          "data": {
            "text/plain": [
              "Parameter containing:\n",
              "tensor([1., 1., 1.], requires_grad=True)"
            ]
          },
          "metadata": {},
          "execution_count": 13
        }
      ]
    },
    {
      "cell_type": "code",
      "source": [
        "m.bias # m.bias는 β입니다."
      ],
      "metadata": {
        "colab": {
          "base_uri": "https://localhost:8080/"
        },
        "id": "0R_4bkQMGV3F",
        "outputId": "50f335f3-bc47-4408-ebd3-8a4a005039c5"
      },
      "execution_count": 14,
      "outputs": [
        {
          "output_type": "execute_result",
          "data": {
            "text/plain": [
              "Parameter containing:\n",
              "tensor([0., 0., 0.], requires_grad=True)"
            ]
          },
          "metadata": {},
          "execution_count": 14
        }
      ]
    }
  ]
}