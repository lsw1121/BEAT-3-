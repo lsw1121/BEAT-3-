{
  "nbformat": 4,
  "nbformat_minor": 0,
  "metadata": {
    "colab": {
      "name": "피드포워드 뉴럴 네트워크와 레이어 정규화 예시.ipynb",
      "provenance": [],
      "collapsed_sections": [],
      "authorship_tag": "ABX9TyNpwdwKNcUGxw97YcPmUenJ",
      "include_colab_link": true
    },
    "kernelspec": {
      "name": "python3",
      "display_name": "Python 3"
    },
    "language_info": {
      "name": "python"
    }
  },
  "cells": [
    {
      "cell_type": "markdown",
      "metadata": {
        "id": "view-in-github",
        "colab_type": "text"
      },
      "source": [
        "<a href=\"https://colab.research.google.com/github/lsw1121/BEAT-3-/blob/main/%ED%94%BC%EB%93%9C%ED%8F%AC%EC%9B%8C%EB%93%9C_%EB%89%B4%EB%9F%B4_%EB%84%A4%ED%8A%B8%EC%9B%8C%ED%81%AC%EC%99%80_%EB%A0%88%EC%9D%B4%EC%96%B4_%EC%A0%95%EA%B7%9C%ED%99%94_%EC%98%88%EC%8B%9C.ipynb\" target=\"_parent\"><img src=\"https://colab.research.google.com/assets/colab-badge.svg\" alt=\"Open In Colab\"/></a>"
      ]
    },
    {
      "cell_type": "markdown",
      "source": [
        "# 코드 3-6 피드포워드 뉴럴 네트워크 계산 예시 (1)\n",
        "- 여기서, x는 입력이고 w1은 입력층-은닉층을 연결하는 가중치, b1은 입력층-은닉층을 연결하는 바이어스입니다.\n",
        "\n",
        "    그리고 w2는 은닉층-출력층을 연결하는 가중치, b2는 은닉층-출력층을 연결하는 바이어스입니다."
      ],
      "metadata": {
        "id": "nOsEEnDNBfFe"
      }
    },
    {
      "cell_type": "code",
      "execution_count": 2,
      "metadata": {
        "id": "q1T3QeG9BWdD"
      },
      "outputs": [],
      "source": [
        "import torch\n",
        "x = torch.tensor([2, 1])\n",
        "w1 = torch.tensor([[3, 2, -4],[2, -3, 1]])\n",
        "b1 = 1\n",
        "w2 = torch.tensor([[-1, 1],[1, 2], [3, 1]])\n",
        "b2 = -1"
      ]
    },
    {
      "cell_type": "markdown",
      "source": [
        "# 코드 3-7 피드포워드 뉴럴 네트워크 계산 예시(2)\n",
        "- h_preact는 입력 x와 w1를 행렬곱한 뒤 b1을 더한 것입니다. \n",
        "- 그 다음으로 ReLU를 취해 은닉층 h를 만듭니다. \n",
        "- 마지막으로 h와 w2를 행렬곱한 뒤 b2를 더해 출력층 y를 계산합니다."
      ],
      "metadata": {
        "id": "PwEubTxOCsDu"
      }
    },
    {
      "cell_type": "code",
      "source": [
        "h_preact = torch.matmul(x, w1) + b1\n",
        "h = torch.nn.functional.relu(h_preact)\n",
        "y= torch.matmul(h, w2) + b2\n",
        "\n"
      ],
      "metadata": {
        "id": "MnhmL6O5DIwj"
      },
      "execution_count": 7,
      "outputs": []
    },
    {
      "cell_type": "code",
      "source": [
        "h_preact"
      ],
      "metadata": {
        "colab": {
          "base_uri": "https://localhost:8080/"
        },
        "id": "GRyhXRx8DeL5",
        "outputId": "66f5f287-9744-41b3-e6b9-3420e5c383e9"
      },
      "execution_count": 8,
      "outputs": [
        {
          "output_type": "execute_result",
          "data": {
            "text/plain": [
              "tensor([ 9,  2, -6])"
            ]
          },
          "metadata": {},
          "execution_count": 8
        }
      ]
    },
    {
      "cell_type": "code",
      "source": [
        "h"
      ],
      "metadata": {
        "colab": {
          "base_uri": "https://localhost:8080/"
        },
        "id": "gmv-DwXjDeJO",
        "outputId": "8d51d813-e943-4072-ddac-70dfcf7c1aa1"
      },
      "execution_count": 9,
      "outputs": [
        {
          "output_type": "execute_result",
          "data": {
            "text/plain": [
              "tensor([9, 2, 0])"
            ]
          },
          "metadata": {},
          "execution_count": 9
        }
      ]
    },
    {
      "cell_type": "code",
      "source": [
        "y"
      ],
      "metadata": {
        "colab": {
          "base_uri": "https://localhost:8080/"
        },
        "id": "IKXlJgA2Dd_5",
        "outputId": "40d55e1b-ce1a-4bb0-d3ee-5a354b5e44f5"
      },
      "execution_count": 10,
      "outputs": [
        {
          "output_type": "execute_result",
          "data": {
            "text/plain": [
              "tensor([-8, 12])"
            ]
          },
          "metadata": {},
          "execution_count": 10
        }
      ]
    }
  ]
}