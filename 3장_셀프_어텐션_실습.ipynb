{
  "nbformat": 4,
  "nbformat_minor": 0,
  "metadata": {
    "colab": {
      "name": "3장 셀프 어텐션 실습.ipynb",
      "provenance": [],
      "collapsed_sections": [],
      "authorship_tag": "ABX9TyOPup1cwHcFrGiz/Gl/sT40",
      "include_colab_link": true
    },
    "kernelspec": {
      "name": "python3",
      "display_name": "Python 3"
    },
    "language_info": {
      "name": "python"
    }
  },
  "cells": [
    {
      "cell_type": "markdown",
      "metadata": {
        "id": "view-in-github",
        "colab_type": "text"
      },
      "source": [
        "<a href=\"https://colab.research.google.com/github/lsw1121/BEAT-3-/blob/main/3%EC%9E%A5_%EC%85%80%ED%94%84_%EC%96%B4%ED%85%90%EC%85%98_%EC%8B%A4%EC%8A%B5.ipynb\" target=\"_parent\"><img src=\"https://colab.research.google.com/assets/colab-badge.svg\" alt=\"Open In Colab\"/></a>"
      ]
    },
    {
      "cell_type": "markdown",
      "source": [
        "# 코드 3-1 변수 정의\n",
        "- 입력 벡터 시퀀스 X와 쿼리, 키, 밸류 구축에 필요한 행렬들을 정의했습니다."
      ],
      "metadata": {
        "id": "OWNncceqqNC0"
      }
    },
    {
      "cell_type": "code",
      "execution_count": 1,
      "metadata": {
        "id": "8GUPO4ufqI45"
      },
      "outputs": [],
      "source": [
        "import torch\n",
        "x = torch.tensor([\n",
        "    [1.0, 0.0, 1.0, 0.0],\n",
        "    [0.0, 2.0, 0.0, 2.0],\n",
        "    [1.0, 1.0, 1.0, 1.0],\n",
        "])\n",
        "w_query = torch.tensor([\n",
        "        [1.0, 0.0, 1.0],\n",
        "        [1.0, 0.0, 0.0],\n",
        "        [0.0, 0.0, 1.0],\n",
        "        [0.0, 1.0, 1.0]\n",
        "])\n",
        "w_key = torch.tensor([\n",
        "        [0.0, 0.0, 1.0],\n",
        "        [1.0, 1.0, 0.0],\n",
        "        [0.0, 1.0, 0.0],\n",
        "        [1.0, 1.0, 0.0]              \n",
        "])\n",
        "w_value = torch.tensor([\n",
        "        [0.0, 2.0, 0.0],\n",
        "        [0.0, 3.0, 0.0],\n",
        "        [1.0, 0.0, 3.0],\n",
        "        [1.0, 1.0, 0.0]              \n",
        "])"
      ]
    },
    {
      "cell_type": "markdown",
      "source": [
        "# 코드 3-2 쿼리, 키, 밸류 만들기\n",
        "- 입력 벡터 시퀀스 X로 쿼리,키, 밸류 벡터들을 만드는 부분입니다.\n",
        "\n",
        "- 여기서, torch.matmul는 행렬곱을 수행하는 함수입니다.\n"
      ],
      "metadata": {
        "id": "cHQf5js9sZtV"
      }
    },
    {
      "cell_type": "code",
      "source": [
        "keys = torch.matmul(x, w_key)\n",
        "querys = torch.matmul(x, w_query)\n",
        "values = torch.matmul(x, w_value)"
      ],
      "metadata": {
        "id": "FtQNBCoFsx8_"
      },
      "execution_count": 2,
      "outputs": []
    },
    {
      "cell_type": "markdown",
      "source": [
        "# 코드 3-3 어텐션 스코어 만들기\n",
        "- 쿼리 벡터들과 키 벡터들을 행렬곱해서 어텐션스코어를 만드는 과정입니다.\n",
        "\n",
        "- 여기서, keys.T는 키 벡터들을 전치한 행렬입니다."
      ],
      "metadata": {
        "id": "8B_Jnmw-tXQL"
      }
    },
    {
      "cell_type": "code",
      "source": [
        "attn_scores = torch.matmul(querys, keys.T)\n",
        "attn_scores"
      ],
      "metadata": {
        "colab": {
          "base_uri": "https://localhost:8080/"
        },
        "id": "N_sBKY6dtzsW",
        "outputId": "4a59c5e9-06f9-482c-ab8b-2ff0e1ab1fad"
      },
      "execution_count": 3,
      "outputs": [
        {
          "output_type": "execute_result",
          "data": {
            "text/plain": [
              "tensor([[ 2.,  4.,  4.],\n",
              "        [ 4., 16., 12.],\n",
              "        [ 4., 12., 10.]])"
            ]
          },
          "metadata": {},
          "execution_count": 3
        }
      ]
    },
    {
      "cell_type": "markdown",
      "source": [
        "# 코드 3-4 소프트맥스 확률값 만들기\n",
        "- 앞 코드 결과에 키 벡터의 차원 수 제곱근으로 나눈 후 소프트맥스를 취하는 과정입니다."
      ],
      "metadata": {
        "id": "ZNkfzzUVuKDi"
      }
    },
    {
      "cell_type": "code",
      "source": [
        "import numpy as np\n",
        "from torch.nn.functional import softmax\n",
        "key_dim_sqrt = np.sqrt(keys.shape[-1])\n",
        "attn_probs = softmax(attn_scores / key_dim_sqrt, dim=-1)\n",
        "attn_probs"
      ],
      "metadata": {
        "colab": {
          "base_uri": "https://localhost:8080/"
        },
        "id": "8Wc_0_qFuTPr",
        "outputId": "277a0ce2-9b24-4d57-fa14-aa3ac5f187d0"
      },
      "execution_count": 5,
      "outputs": [
        {
          "output_type": "execute_result",
          "data": {
            "text/plain": [
              "tensor([[1.3613e-01, 4.3194e-01, 4.3194e-01],\n",
              "        [8.9045e-04, 9.0884e-01, 9.0267e-02],\n",
              "        [7.4449e-03, 7.5471e-01, 2.3785e-01]])"
            ]
          },
          "metadata": {},
          "execution_count": 5
        }
      ]
    },
    {
      "cell_type": "markdown",
      "source": [
        "# 코드 3-5 소프트맥스 확률과 밸류를 가중합하기\n",
        "- 앞 코드에서 구한 소프트맥스 확률과 밸류 벡터들을 가중합하는 과정입니다."
      ],
      "metadata": {
        "id": "XhjNf_dlvGEc"
      }
    },
    {
      "cell_type": "code",
      "source": [
        "weighted_values = torch.matmul(attn_probs, values)\n",
        "weighted_values"
      ],
      "metadata": {
        "colab": {
          "base_uri": "https://localhost:8080/"
        },
        "id": "vW-R4vFYvOE2",
        "outputId": "b35199e1-0849-46a4-f731-87f681faf5e2"
      },
      "execution_count": 6,
      "outputs": [
        {
          "output_type": "execute_result",
          "data": {
            "text/plain": [
              "tensor([[1.8639, 6.3194, 1.7042],\n",
              "        [1.9991, 7.8141, 0.2735],\n",
              "        [1.9926, 7.4796, 0.7359]])"
            ]
          },
          "metadata": {},
          "execution_count": 6
        }
      ]
    }
  ]
}